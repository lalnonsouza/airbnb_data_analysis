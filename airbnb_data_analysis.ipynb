{
  "nbformat": 4,
  "nbformat_minor": 0,
  "metadata": {
    "colab": {
      "name": "airbnb data analysis",
      "provenance": [],
      "collapsed_sections": [],
      "include_colab_link": true
    },
    "kernelspec": {
      "name": "python3",
      "display_name": "Python 3"
    }
  },
  "cells": [
    {
      "cell_type": "markdown",
      "metadata": {
        "id": "view-in-github",
        "colab_type": "text"
      },
      "source": [
        "<a href=\"https://colab.research.google.com/github/lalsouza/airbnb_data_analysis/blob/main/airbnb_data_analysis.ipynb\" target=\"_parent\"><img src=\"https://colab.research.google.com/assets/colab-badge.svg\" alt=\"Open In Colab\"/></a>"
      ]
    },
    {
      "cell_type": "markdown",
      "metadata": {
        "id": "kLI0gJtzDGuQ"
      },
      "source": [
        "> by [Lalnon Souza](https://github.com/lalsouza)\n",
        "# Análise dos Dados do Airbnb - Boston\n",
        "\n",
        "---\n",
        "\n",
        "O [Airbnb](https://www.airbnb.com.br/) já é considerado como sendo a **maior empresa hoteleira da atualidade**. O detalhe é que ele **não possui nenhum hotel**!\n",
        "\n",
        "Conectando pessoas que querem viajar (e se hospedar) com anfitriões que querem alugar seus imóveis de maneira prática, o Airbnb fornece uma plataforma inovadora para tornar essa hospedagem alternativa.\n",
        "\n",
        "No final de 2018, a Startup fundada 10 anos atrás, já havia **hospedado mais de 300 milhões** de pessoas ao redor de todo o mundo, desafiando as redes hoteleiras tradicionais.\n",
        "\n",
        "Uma das iniciativas do Airbnb é disponibilizar dados do site, para algumas das principais cidades do mundo. Por meio do portal [Inside Airbnb](http://insideairbnb.com/get-the-data.html), é possível baixar uma grande quantidade de dados para desenvolver projetos e soluções de *Data Science*.\n",
        "\n",
        "<center><img alt=\"Analisando Airbnb\" width=\"10%\" src=\"https://www.area360.com.au/wp-content/uploads/2017/09/airbnb-logo.jpg\"></center>\n",
        "\n",
        "**Neste *notebook*, iremos analisar os dados referentes à cidade Boston - Massachusetts, e ver quais insights podem ser extraídos a partir de dados brutos.**"
      ]
    },
    {
      "cell_type": "markdown",
      "metadata": {
        "id": "0zxQHhIUDF_2"
      },
      "source": [
        "## Obtenção dos Dados\n",
        "Todos os dados usados aqui foram obtidos a partir do site [Inside Airbnb](http://insideairbnb.com/get-the-data.html).\n",
        "\n",
        "Para esta análise exploratória inicial, será baixado apenas o seguinte arquivo:\n",
        "\n",
        "* `listings.csv` - *Summary information and metrics for listings in Boston (good for visualisations).*\n",
        "\n",
        "Importante: O portal está em constante evolução, e em determinado momento, pode ser que o [conjunto de dados](http://data.insideairbnb.com/united-states/ma/boston/2021-12-17/visualisations/listings.csv) exato utilizado nesse notebook não esteja mais disponível, o que quebraria nosso código.\n",
        "\n",
        "Pensando nisso, disponibilizo [aqui](https://www.dropbox.com/s/iuvkkla3vttqfgq/listings.csv?dl=0) o conjunto que utilizamos, para que você sempre consiga utilizar esse material.\n",
        "\n",
        "Com isso em mente, vamos ao projeto."
      ]
    },
    {
      "cell_type": "code",
      "metadata": {
        "id": "Vhp2wMPgJ6zX"
      },
      "source": [
        "# importar os pacotes necessarios\n",
        "import pandas as pd\n",
        "import matplotlib.pyplot as plt\n",
        "import seaborn as sns\n",
        "\n",
        "%matplotlib inline"
      ],
      "execution_count": 1,
      "outputs": []
    },
    {
      "cell_type": "code",
      "metadata": {
        "id": "tUmoAT8DLQ5T"
      },
      "source": [
        "# importar o arquivo listings.csv para um DataFrame\n",
        "#df = pd.read_csv('https://docs.google.com/spreadsheets/d/e/2PACX-1vSNO3QmG0y94-yj52VSbbPD94VHu_vND0-Vimdh6n4ctUwoIMKXdUEaleGv8HTd5NQE_cg2LsfN9n9Y/pub?output=csv')\n",
        "df = pd.read_csv('https://raw.githubusercontent.com/lalsouza/airbnb_data_analysis/main/listings.csv')"
      ],
      "execution_count": 66,
      "outputs": []
    },
    {
      "cell_type": "markdown",
      "metadata": {
        "id": "qb5By2nIMS6m"
      },
      "source": [
        "## Análise dos Dados\n"
      ]
    },
    {
      "cell_type": "markdown",
      "metadata": {
        "id": "RYgvuebKNg8-"
      },
      "source": [
        "**Dicionário das variáveis**\n",
        "\n",
        "* `id` - número de id gerado para identificar o imóvel\n",
        "* `name` - nome da propriedade anunciada\n",
        "* `host_id` - número de id do proprietário (anfitrião) da propriedade\n",
        "* `host_name` - Nome do anfitrião\n",
        "* `neighbourhood_group` - esta coluna não contém nenhum valor válido\n",
        "* `neighbourhood` - nome do bairro\n",
        "* `latitude` - coordenada da latitude da propriedade\n",
        "* `longitude` - coordenada da longitude da propriedade\n",
        "* `room_type` - informa o tipo de quarto que é oferecido\n",
        "* `price` - preço para alugar o imóvel\n",
        "* `minimum_nights` - quantidade mínima de noites para reservar\n",
        "* `number_of_reviews` - número de reviews que a propriedade possui\n",
        "* `last_review` - data do último review\n",
        "* `reviews_per_month` - quantidade de reviews por mês\n",
        "* `calculated_host_listings_count` - quantidade de imóveis do mesmo anfitrião\n",
        "* `availability_365` - número de dias de disponibilidade dentro de 365 dias\n",
        "* `number_of_reviews_ltm` - número de reviews que a propriedade possui (nos últimos 12 meses)\n",
        "* `license` - a licença/autorização/número de registro \n",
        "\n",
        "Antes de iniciar qualquer análise, vamos verificar a cara do nosso *dataset*, analisando as 5 primeiras entradas."
      ]
    },
    {
      "cell_type": "code",
      "metadata": {
        "id": "2iS_dae7YQtO",
        "colab": {
          "base_uri": "https://localhost:8080/",
          "height": 444
        },
        "outputId": "3a634658-0ada-4bc5-a506-590c18c52bb6"
      },
      "source": [
        "# mostrar as 5 primeiras entradas\n",
        "df.head()"
      ],
      "execution_count": 67,
      "outputs": [
        {
          "output_type": "execute_result",
          "data": {
            "text/plain": [
              "      id                                 name  host_id host_name  \\\n",
              "0   3781            HARBORSIDE-Walk to subway     4804     Frank   \n",
              "1   5506     ** Private! Minutes to center!**     8229     Terry   \n",
              "2   6695           Home Away from Home! Condo     8229     Terry   \n",
              "3   8789  Curved Glass Studio/1bd facing Park    26988      Anne   \n",
              "4  10730       Bright 1bed facing Golden Dome    26988      Anne   \n",
              "\n",
              "   neighbourhood_group neighbourhood  latitude  longitude        room_type  \\\n",
              "0                  NaN   East Boston  42.36413  -71.02991  Entire home/apt   \n",
              "1                  NaN       Roxbury  42.32844  -71.09581  Entire home/apt   \n",
              "2                  NaN       Roxbury  42.32802  -71.09387  Entire home/apt   \n",
              "3                  NaN   Beacon Hill  42.35867  -71.06307  Entire home/apt   \n",
              "4                  NaN      Downtown  42.35906  -71.06271  Entire home/apt   \n",
              "\n",
              "   price  minimum_nights  number_of_reviews last_review  reviews_per_month  \\\n",
              "0    125              32                 21  2021-07-25               0.27   \n",
              "1     99               3                110  2021-10-25               0.71   \n",
              "2    250               3                116  2021-10-12               0.77   \n",
              "3     80              91                 25  2020-04-15               0.28   \n",
              "4     95              91                 32  2020-04-16               0.21   \n",
              "\n",
              "   calculated_host_listings_count  availability_365  number_of_reviews_ltm  \\\n",
              "0                               1                17                      4   \n",
              "1                              10                75                      3   \n",
              "2                              10               127                      1   \n",
              "3                               6               244                      0   \n",
              "4                               6               314                      0   \n",
              "\n",
              "                      license  \n",
              "0                         NaN  \n",
              "1  Approved by the government  \n",
              "2                   STR446650  \n",
              "3                         NaN  \n",
              "4                         NaN  "
            ],
            "text/html": [
              "\n",
              "  <div id=\"df-248e8104-c373-4bf4-b10b-7248b1fe7760\">\n",
              "    <div class=\"colab-df-container\">\n",
              "      <div>\n",
              "<style scoped>\n",
              "    .dataframe tbody tr th:only-of-type {\n",
              "        vertical-align: middle;\n",
              "    }\n",
              "\n",
              "    .dataframe tbody tr th {\n",
              "        vertical-align: top;\n",
              "    }\n",
              "\n",
              "    .dataframe thead th {\n",
              "        text-align: right;\n",
              "    }\n",
              "</style>\n",
              "<table border=\"1\" class=\"dataframe\">\n",
              "  <thead>\n",
              "    <tr style=\"text-align: right;\">\n",
              "      <th></th>\n",
              "      <th>id</th>\n",
              "      <th>name</th>\n",
              "      <th>host_id</th>\n",
              "      <th>host_name</th>\n",
              "      <th>neighbourhood_group</th>\n",
              "      <th>neighbourhood</th>\n",
              "      <th>latitude</th>\n",
              "      <th>longitude</th>\n",
              "      <th>room_type</th>\n",
              "      <th>price</th>\n",
              "      <th>minimum_nights</th>\n",
              "      <th>number_of_reviews</th>\n",
              "      <th>last_review</th>\n",
              "      <th>reviews_per_month</th>\n",
              "      <th>calculated_host_listings_count</th>\n",
              "      <th>availability_365</th>\n",
              "      <th>number_of_reviews_ltm</th>\n",
              "      <th>license</th>\n",
              "    </tr>\n",
              "  </thead>\n",
              "  <tbody>\n",
              "    <tr>\n",
              "      <th>0</th>\n",
              "      <td>3781</td>\n",
              "      <td>HARBORSIDE-Walk to subway</td>\n",
              "      <td>4804</td>\n",
              "      <td>Frank</td>\n",
              "      <td>NaN</td>\n",
              "      <td>East Boston</td>\n",
              "      <td>42.36413</td>\n",
              "      <td>-71.02991</td>\n",
              "      <td>Entire home/apt</td>\n",
              "      <td>125</td>\n",
              "      <td>32</td>\n",
              "      <td>21</td>\n",
              "      <td>2021-07-25</td>\n",
              "      <td>0.27</td>\n",
              "      <td>1</td>\n",
              "      <td>17</td>\n",
              "      <td>4</td>\n",
              "      <td>NaN</td>\n",
              "    </tr>\n",
              "    <tr>\n",
              "      <th>1</th>\n",
              "      <td>5506</td>\n",
              "      <td>** Private! Minutes to center!**</td>\n",
              "      <td>8229</td>\n",
              "      <td>Terry</td>\n",
              "      <td>NaN</td>\n",
              "      <td>Roxbury</td>\n",
              "      <td>42.32844</td>\n",
              "      <td>-71.09581</td>\n",
              "      <td>Entire home/apt</td>\n",
              "      <td>99</td>\n",
              "      <td>3</td>\n",
              "      <td>110</td>\n",
              "      <td>2021-10-25</td>\n",
              "      <td>0.71</td>\n",
              "      <td>10</td>\n",
              "      <td>75</td>\n",
              "      <td>3</td>\n",
              "      <td>Approved by the government</td>\n",
              "    </tr>\n",
              "    <tr>\n",
              "      <th>2</th>\n",
              "      <td>6695</td>\n",
              "      <td>Home Away from Home! Condo</td>\n",
              "      <td>8229</td>\n",
              "      <td>Terry</td>\n",
              "      <td>NaN</td>\n",
              "      <td>Roxbury</td>\n",
              "      <td>42.32802</td>\n",
              "      <td>-71.09387</td>\n",
              "      <td>Entire home/apt</td>\n",
              "      <td>250</td>\n",
              "      <td>3</td>\n",
              "      <td>116</td>\n",
              "      <td>2021-10-12</td>\n",
              "      <td>0.77</td>\n",
              "      <td>10</td>\n",
              "      <td>127</td>\n",
              "      <td>1</td>\n",
              "      <td>STR446650</td>\n",
              "    </tr>\n",
              "    <tr>\n",
              "      <th>3</th>\n",
              "      <td>8789</td>\n",
              "      <td>Curved Glass Studio/1bd facing Park</td>\n",
              "      <td>26988</td>\n",
              "      <td>Anne</td>\n",
              "      <td>NaN</td>\n",
              "      <td>Beacon Hill</td>\n",
              "      <td>42.35867</td>\n",
              "      <td>-71.06307</td>\n",
              "      <td>Entire home/apt</td>\n",
              "      <td>80</td>\n",
              "      <td>91</td>\n",
              "      <td>25</td>\n",
              "      <td>2020-04-15</td>\n",
              "      <td>0.28</td>\n",
              "      <td>6</td>\n",
              "      <td>244</td>\n",
              "      <td>0</td>\n",
              "      <td>NaN</td>\n",
              "    </tr>\n",
              "    <tr>\n",
              "      <th>4</th>\n",
              "      <td>10730</td>\n",
              "      <td>Bright 1bed facing Golden Dome</td>\n",
              "      <td>26988</td>\n",
              "      <td>Anne</td>\n",
              "      <td>NaN</td>\n",
              "      <td>Downtown</td>\n",
              "      <td>42.35906</td>\n",
              "      <td>-71.06271</td>\n",
              "      <td>Entire home/apt</td>\n",
              "      <td>95</td>\n",
              "      <td>91</td>\n",
              "      <td>32</td>\n",
              "      <td>2020-04-16</td>\n",
              "      <td>0.21</td>\n",
              "      <td>6</td>\n",
              "      <td>314</td>\n",
              "      <td>0</td>\n",
              "      <td>NaN</td>\n",
              "    </tr>\n",
              "  </tbody>\n",
              "</table>\n",
              "</div>\n",
              "      <button class=\"colab-df-convert\" onclick=\"convertToInteractive('df-248e8104-c373-4bf4-b10b-7248b1fe7760')\"\n",
              "              title=\"Convert this dataframe to an interactive table.\"\n",
              "              style=\"display:none;\">\n",
              "        \n",
              "  <svg xmlns=\"http://www.w3.org/2000/svg\" height=\"24px\"viewBox=\"0 0 24 24\"\n",
              "       width=\"24px\">\n",
              "    <path d=\"M0 0h24v24H0V0z\" fill=\"none\"/>\n",
              "    <path d=\"M18.56 5.44l.94 2.06.94-2.06 2.06-.94-2.06-.94-.94-2.06-.94 2.06-2.06.94zm-11 1L8.5 8.5l.94-2.06 2.06-.94-2.06-.94L8.5 2.5l-.94 2.06-2.06.94zm10 10l.94 2.06.94-2.06 2.06-.94-2.06-.94-.94-2.06-.94 2.06-2.06.94z\"/><path d=\"M17.41 7.96l-1.37-1.37c-.4-.4-.92-.59-1.43-.59-.52 0-1.04.2-1.43.59L10.3 9.45l-7.72 7.72c-.78.78-.78 2.05 0 2.83L4 21.41c.39.39.9.59 1.41.59.51 0 1.02-.2 1.41-.59l7.78-7.78 2.81-2.81c.8-.78.8-2.07 0-2.86zM5.41 20L4 18.59l7.72-7.72 1.47 1.35L5.41 20z\"/>\n",
              "  </svg>\n",
              "      </button>\n",
              "      \n",
              "  <style>\n",
              "    .colab-df-container {\n",
              "      display:flex;\n",
              "      flex-wrap:wrap;\n",
              "      gap: 12px;\n",
              "    }\n",
              "\n",
              "    .colab-df-convert {\n",
              "      background-color: #E8F0FE;\n",
              "      border: none;\n",
              "      border-radius: 50%;\n",
              "      cursor: pointer;\n",
              "      display: none;\n",
              "      fill: #1967D2;\n",
              "      height: 32px;\n",
              "      padding: 0 0 0 0;\n",
              "      width: 32px;\n",
              "    }\n",
              "\n",
              "    .colab-df-convert:hover {\n",
              "      background-color: #E2EBFA;\n",
              "      box-shadow: 0px 1px 2px rgba(60, 64, 67, 0.3), 0px 1px 3px 1px rgba(60, 64, 67, 0.15);\n",
              "      fill: #174EA6;\n",
              "    }\n",
              "\n",
              "    [theme=dark] .colab-df-convert {\n",
              "      background-color: #3B4455;\n",
              "      fill: #D2E3FC;\n",
              "    }\n",
              "\n",
              "    [theme=dark] .colab-df-convert:hover {\n",
              "      background-color: #434B5C;\n",
              "      box-shadow: 0px 1px 3px 1px rgba(0, 0, 0, 0.15);\n",
              "      filter: drop-shadow(0px 1px 2px rgba(0, 0, 0, 0.3));\n",
              "      fill: #FFFFFF;\n",
              "    }\n",
              "  </style>\n",
              "\n",
              "      <script>\n",
              "        const buttonEl =\n",
              "          document.querySelector('#df-248e8104-c373-4bf4-b10b-7248b1fe7760 button.colab-df-convert');\n",
              "        buttonEl.style.display =\n",
              "          google.colab.kernel.accessAllowed ? 'block' : 'none';\n",
              "\n",
              "        async function convertToInteractive(key) {\n",
              "          const element = document.querySelector('#df-248e8104-c373-4bf4-b10b-7248b1fe7760');\n",
              "          const dataTable =\n",
              "            await google.colab.kernel.invokeFunction('convertToInteractive',\n",
              "                                                     [key], {});\n",
              "          if (!dataTable) return;\n",
              "\n",
              "          const docLinkHtml = 'Like what you see? Visit the ' +\n",
              "            '<a target=\"_blank\" href=https://colab.research.google.com/notebooks/data_table.ipynb>data table notebook</a>'\n",
              "            + ' to learn more about interactive tables.';\n",
              "          element.innerHTML = '';\n",
              "          dataTable['output_type'] = 'display_data';\n",
              "          await google.colab.output.renderOutput(dataTable, element);\n",
              "          const docLink = document.createElement('div');\n",
              "          docLink.innerHTML = docLinkHtml;\n",
              "          element.appendChild(docLink);\n",
              "        }\n",
              "      </script>\n",
              "    </div>\n",
              "  </div>\n",
              "  "
            ]
          },
          "metadata": {},
          "execution_count": 67
        }
      ]
    },
    {
      "cell_type": "markdown",
      "metadata": {
        "id": "6-B_qtEaYEd-"
      },
      "source": [
        "### **Q1. Quantos atributos (variáveis) e quantas entradas o nosso conjunto de dados possui? Quais os tipos das variáveis?**"
      ]
    },
    {
      "cell_type": "code",
      "metadata": {
        "id": "TFRK0tniLV-G",
        "colab": {
          "base_uri": "https://localhost:8080/"
        },
        "outputId": "a47f54af-f769-4787-8f02-cc1ebfa6bd0c"
      },
      "source": [
        "# identificar o volume de dados do DataFrame\n",
        "print(f'Entradas: \\t {df.shape[0]}')\n",
        "print(f\"Variáveis: \\t {df.shape[1]}\\n\")\n",
        "\n",
        "# verificar os tipos das variáveis\n",
        "df.dtypes"
      ],
      "execution_count": 68,
      "outputs": [
        {
          "output_type": "stream",
          "name": "stdout",
          "text": [
            "Entradas: \t 3349\n",
            "Variáveis: \t 18\n",
            "\n"
          ]
        },
        {
          "output_type": "execute_result",
          "data": {
            "text/plain": [
              "id                                  int64\n",
              "name                               object\n",
              "host_id                             int64\n",
              "host_name                          object\n",
              "neighbourhood_group               float64\n",
              "neighbourhood                      object\n",
              "latitude                          float64\n",
              "longitude                         float64\n",
              "room_type                          object\n",
              "price                               int64\n",
              "minimum_nights                      int64\n",
              "number_of_reviews                   int64\n",
              "last_review                        object\n",
              "reviews_per_month                 float64\n",
              "calculated_host_listings_count      int64\n",
              "availability_365                    int64\n",
              "number_of_reviews_ltm               int64\n",
              "license                            object\n",
              "dtype: object"
            ]
          },
          "metadata": {},
          "execution_count": 68
        }
      ]
    },
    {
      "cell_type": "markdown",
      "metadata": {
        "id": "yz1urSUGW9iE"
      },
      "source": [
        "### **Q2. Qual a porcentagem de valores ausentes no *dataset*?**"
      ]
    },
    {
      "cell_type": "code",
      "metadata": {
        "id": "plk2FjbCXOqP",
        "colab": {
          "base_uri": "https://localhost:8080/"
        },
        "outputId": "8f216899-22a8-47d2-ed3c-b83a72f0a535"
      },
      "source": [
        "# ordenar em ordem decrescente as variáveis por seus valores ausentes\n",
        "((df.isnull().sum() / df.shape[0]) * 100).sort_values(ascending=False)"
      ],
      "execution_count": 69,
      "outputs": [
        {
          "output_type": "execute_result",
          "data": {
            "text/plain": [
              "neighbourhood_group               100.000000\n",
              "license                            44.789489\n",
              "reviews_per_month                  29.829800\n",
              "last_review                        29.829800\n",
              "host_name                           9.704389\n",
              "minimum_nights                      0.000000\n",
              "number_of_reviews_ltm               0.000000\n",
              "availability_365                    0.000000\n",
              "calculated_host_listings_count      0.000000\n",
              "number_of_reviews                   0.000000\n",
              "id                                  0.000000\n",
              "name                                0.000000\n",
              "room_type                           0.000000\n",
              "longitude                           0.000000\n",
              "latitude                            0.000000\n",
              "neighbourhood                       0.000000\n",
              "host_id                             0.000000\n",
              "price                               0.000000\n",
              "dtype: float64"
            ]
          },
          "metadata": {},
          "execution_count": 69
        }
      ]
    },
    {
      "cell_type": "markdown",
      "source": [
        "* É possível ver que a coluna `neighbourhood_group` possui 100% dos seus valores faltantes.\n",
        "* A coluna `licence` possui quase a metade de suas linhas nulas \n",
        "* As variáveis `reviews_per_month` e `last_review` possuem valores nulos em quase um terço das linhas.\n",
        "* A variável `host_name` têm aproximadamente 10% dos valores nulos."
      ],
      "metadata": {
        "id": "G6koS50zoLu2"
      }
    },
    {
      "cell_type": "markdown",
      "metadata": {
        "id": "iHXvvHIxaoNc"
      },
      "source": [
        "### **Q3. Qual o tipo de distribuição das variáveis?** "
      ]
    },
    {
      "cell_type": "code",
      "metadata": {
        "id": "q2wWSfeRbmBo",
        "colab": {
          "base_uri": "https://localhost:8080/",
          "height": 1000
        },
        "outputId": "5a4610a4-182b-410a-ab09-935b75c64d02"
      },
      "source": [
        "# plotar o histograma das variáveis numéricas\n",
        "df.hist(figsize=(15,15), bins=50)"
      ],
      "execution_count": 70,
      "outputs": [
        {
          "output_type": "execute_result",
          "data": {
            "text/plain": [
              "array([[<matplotlib.axes._subplots.AxesSubplot object at 0x7f078b41d7d0>,\n",
              "        <matplotlib.axes._subplots.AxesSubplot object at 0x7f078b42d750>,\n",
              "        <matplotlib.axes._subplots.AxesSubplot object at 0x7f078b443c50>],\n",
              "       [<matplotlib.axes._subplots.AxesSubplot object at 0x7f078b3f7190>,\n",
              "        <matplotlib.axes._subplots.AxesSubplot object at 0x7f078b3a6690>,\n",
              "        <matplotlib.axes._subplots.AxesSubplot object at 0x7f078b35ab90>],\n",
              "       [<matplotlib.axes._subplots.AxesSubplot object at 0x7f078b31f150>,\n",
              "        <matplotlib.axes._subplots.AxesSubplot object at 0x7f078b354590>,\n",
              "        <matplotlib.axes._subplots.AxesSubplot object at 0x7f078b3545d0>],\n",
              "       [<matplotlib.axes._subplots.AxesSubplot object at 0x7f078b30abd0>,\n",
              "        <matplotlib.axes._subplots.AxesSubplot object at 0x7f078b284590>,\n",
              "        <matplotlib.axes._subplots.AxesSubplot object at 0x7f078b23aa90>]],\n",
              "      dtype=object)"
            ]
          },
          "metadata": {},
          "execution_count": 70
        },
        {
          "output_type": "display_data",
          "data": {
            "text/plain": [
              "<Figure size 1080x1080 with 12 Axes>"
            ],
            "image/png": "[encoded data removed]"
          },
          "metadata": {
            "needs_background": "light"
          }
        }
      ]
    },
    {
      "cell_type": "markdown",
      "metadata": {
        "id": "7x4aw1j5wNmn"
      },
      "source": [
        "### **Q4. Qual a média dos preços de aluguel?**"
      ]
    },
    {
      "cell_type": "code",
      "metadata": {
        "id": "ff-8gUahLk-C",
        "colab": {
          "base_uri": "https://localhost:8080/"
        },
        "outputId": "66328680-5cd6-4d0b-f91e-2cd10f318ec2"
      },
      "source": [
        "# ver a média da coluna `price``\n",
        "df.price.mean()"
      ],
      "execution_count": 71,
      "outputs": [
        {
          "output_type": "execute_result",
          "data": {
            "text/plain": [
              "168.23111376530306"
            ]
          },
          "metadata": {},
          "execution_count": 71
        }
      ]
    },
    {
      "cell_type": "markdown",
      "source": [
        "#### **Q4.1. Existem outliers que podem interferir no calculo da média?**"
      ],
      "metadata": {
        "id": "Ar4Rig74VmjD"
      }
    },
    {
      "cell_type": "code",
      "source": [
        "# verificar se há outliers em price\n",
        "df.price.describe()"
      ],
      "metadata": {
        "colab": {
          "base_uri": "https://localhost:8080/"
        },
        "id": "V7izNpsrzfl5",
        "outputId": "7efbca92-75a8-4d62-cb28-f8df1763c970"
      },
      "execution_count": 72,
      "outputs": [
        {
          "output_type": "execute_result",
          "data": {
            "text/plain": [
              "count     3349.000000\n",
              "mean       168.231114\n",
              "std        262.049196\n",
              "min          0.000000\n",
              "25%         75.000000\n",
              "50%        126.000000\n",
              "75%        200.000000\n",
              "max      10000.000000\n",
              "Name: price, dtype: float64"
            ]
          },
          "metadata": {},
          "execution_count": 72
        }
      ]
    },
    {
      "cell_type": "markdown",
      "source": [
        "Olhando o resumo estatístico acima, podemos fazer algumas observações sobre a variável `price`:\n",
        "\n",
        "* Possui 75% do valor abaixo de 200;\n",
        "* Seu valor máximo é 10000;\n",
        "* Sua média é de 168.231114."
      ],
      "metadata": {
        "id": "06KvtPlVV9Da"
      }
    },
    {
      "cell_type": "code",
      "source": [
        "# verificar se há outliers em price\n",
        "df.price.plot(kind='box', vert=False, figsize=(15, 3),)\n",
        "plt.show()"
      ],
      "metadata": {
        "colab": {
          "base_uri": "https://localhost:8080/",
          "height": 211
        },
        "id": "fa8KZ8cUzMY1",
        "outputId": "53e304b9-cb3a-40c8-9f29-4b5ddcce824c"
      },
      "execution_count": 73,
      "outputs": [
        {
          "output_type": "display_data",
          "data": {
            "text/plain": [
              "<Figure size 1080x216 with 1 Axes>"
            ],
            "image/png": "[encoded data removed]"
          },
          "metadata": {
            "needs_background": "light"
          }
        }
      ]
    },
    {
      "cell_type": "markdown",
      "source": [
        "Vemos que há uma grande concentração nos `price` abaixo de 2000 e a partir desse valor eles são poucos e bastante dispersos. Vamos então verificar se existem outliers ali"
      ],
      "metadata": {
        "id": "6DnkV8hQNpl0"
      }
    },
    {
      "cell_type": "code",
      "source": [
        "# ver quantidade de valores acima de 2000 para price\n",
        "print(\"\\nprice: valores acima de 2000\")\n",
        "print(\"{} entradas\".format(len(df[df.price > 2000])))\n",
        "print(\"{:.4f}%\".format((len(df[df.price > 2000]) / df.shape[0])*100))"
      ],
      "metadata": {
        "colab": {
          "base_uri": "https://localhost:8080/"
        },
        "id": "tPnpzSxRNc74",
        "outputId": "f97cd279-3fd4-45a2-a2e9-8ec524fea5cc"
      },
      "execution_count": 74,
      "outputs": [
        {
          "output_type": "stream",
          "name": "stdout",
          "text": [
            "\n",
            "price: valores acima de 2000\n",
            "6 entradas\n",
            "0.1792%\n"
          ]
        }
      ]
    },
    {
      "cell_type": "markdown",
      "source": [
        "Acima de 2000 são poucas as entradas (6 entradas) e estão muito distantes entre si. Veremos então quais são as essas entradas"
      ],
      "metadata": {
        "id": "MgogiiXPY6IZ"
      }
    },
    {
      "cell_type": "code",
      "source": [
        "# localizar a entradas com valores e price > 2000 e exibir somente colunas selecionadas\n",
        "df.loc[df.price > 2000, ['id',\n",
        "                         'name',\n",
        "                         'neighbourhood',\n",
        "                         'room_type',\n",
        "                         'price',\n",
        "                         'minimum_nights',\n",
        "                         'number_of_reviews',\n",
        "                         'last_review',\n",
        "                         'calculated_host_listings_count',\n",
        "                         'availability_365',\n",
        "                         'number_of_reviews_ltm']]"
      ],
      "metadata": {
        "colab": {
          "base_uri": "https://localhost:8080/",
          "height": 524
        },
        "id": "AcfwCTXpZSSQ",
        "outputId": "0df56fd6-55c6-4a05-e412-83761bfd3d6f"
      },
      "execution_count": 75,
      "outputs": [
        {
          "output_type": "execute_result",
          "data": {
            "text/plain": [
              "            id                                              name  \\\n",
              "380    8116523                   Brownstone in heart of Back Bay   \n",
              "576   13657486  Large, modern 2br, 2ba renovated 6/16 with patio   \n",
              "727   17138041              Downtown Destination | near Back Bay   \n",
              "1440  33352470                                PRESIDENTIAL SUITE   \n",
              "1459  33638927   Gathering Retreat near downtown Fenway FreePrkg   \n",
              "1739  39772695                       Boston Homestel, Double Bed   \n",
              "\n",
              "     neighbourhood        room_type  price  minimum_nights  number_of_reviews  \\\n",
              "380       Back Bay  Entire home/apt   5000              91                181   \n",
              "576       Downtown  Entire home/apt   3999             180                  4   \n",
              "727       Back Bay  Entire home/apt   5000              91                164   \n",
              "1440      Downtown       Hotel room   2429               1                  0   \n",
              "1459    Dorchester  Entire home/apt   2076               2                  3   \n",
              "1739    Dorchester     Private room  10000               1                 12   \n",
              "\n",
              "     last_review  calculated_host_listings_count  availability_365  \\\n",
              "380   2018-05-19                               5                 0   \n",
              "576   2016-08-26                               1               363   \n",
              "727   2019-11-27                               1                 0   \n",
              "1440         NaN                              13               218   \n",
              "1459  2021-07-25                              17               356   \n",
              "1739  2020-08-02                               1               138   \n",
              "\n",
              "      number_of_reviews_ltm  \n",
              "380                       0  \n",
              "576                       0  \n",
              "727                       0  \n",
              "1440                      0  \n",
              "1459                      1  \n",
              "1739                      0  "
            ],
            "text/html": [
              "\n",
              "  <div id=\"df-f5798ad9-3214-4e99-8f14-c4c691c855ba\">\n",
              "    <div class=\"colab-df-container\">\n",
              "      <div>\n",
              "<style scoped>\n",
              "    .dataframe tbody tr th:only-of-type {\n",
              "        vertical-align: middle;\n",
              "    }\n",
              "\n",
              "    .dataframe tbody tr th {\n",
              "        vertical-align: top;\n",
              "    }\n",
              "\n",
              "    .dataframe thead th {\n",
              "        text-align: right;\n",
              "    }\n",
              "</style>\n",
              "<table border=\"1\" class=\"dataframe\">\n",
              "  <thead>\n",
              "    <tr style=\"text-align: right;\">\n",
              "      <th></th>\n",
              "      <th>id</th>\n",
              "      <th>name</th>\n",
              "      <th>neighbourhood</th>\n",
              "      <th>room_type</th>\n",
              "      <th>price</th>\n",
              "      <th>minimum_nights</th>\n",
              "      <th>number_of_reviews</th>\n",
              "      <th>last_review</th>\n",
              "      <th>calculated_host_listings_count</th>\n",
              "      <th>availability_365</th>\n",
              "      <th>number_of_reviews_ltm</th>\n",
              "    </tr>\n",
              "  </thead>\n",
              "  <tbody>\n",
              "    <tr>\n",
              "      <th>380</th>\n",
              "      <td>8116523</td>\n",
              "      <td>Brownstone in heart of Back Bay</td>\n",
              "      <td>Back Bay</td>\n",
              "      <td>Entire home/apt</td>\n",
              "      <td>5000</td>\n",
              "      <td>91</td>\n",
              "      <td>181</td>\n",
              "      <td>2018-05-19</td>\n",
              "      <td>5</td>\n",
              "      <td>0</td>\n",
              "      <td>0</td>\n",
              "    </tr>\n",
              "    <tr>\n",
              "      <th>576</th>\n",
              "      <td>13657486</td>\n",
              "      <td>Large, modern 2br, 2ba renovated 6/16 with patio</td>\n",
              "      <td>Downtown</td>\n",
              "      <td>Entire home/apt</td>\n",
              "      <td>3999</td>\n",
              "      <td>180</td>\n",
              "      <td>4</td>\n",
              "      <td>2016-08-26</td>\n",
              "      <td>1</td>\n",
              "      <td>363</td>\n",
              "      <td>0</td>\n",
              "    </tr>\n",
              "    <tr>\n",
              "      <th>727</th>\n",
              "      <td>17138041</td>\n",
              "      <td>Downtown Destination | near Back Bay</td>\n",
              "      <td>Back Bay</td>\n",
              "      <td>Entire home/apt</td>\n",
              "      <td>5000</td>\n",
              "      <td>91</td>\n",
              "      <td>164</td>\n",
              "      <td>2019-11-27</td>\n",
              "      <td>1</td>\n",
              "      <td>0</td>\n",
              "      <td>0</td>\n",
              "    </tr>\n",
              "    <tr>\n",
              "      <th>1440</th>\n",
              "      <td>33352470</td>\n",
              "      <td>PRESIDENTIAL SUITE</td>\n",
              "      <td>Downtown</td>\n",
              "      <td>Hotel room</td>\n",
              "      <td>2429</td>\n",
              "      <td>1</td>\n",
              "      <td>0</td>\n",
              "      <td>NaN</td>\n",
              "      <td>13</td>\n",
              "      <td>218</td>\n",
              "      <td>0</td>\n",
              "    </tr>\n",
              "    <tr>\n",
              "      <th>1459</th>\n",
              "      <td>33638927</td>\n",
              "      <td>Gathering Retreat near downtown Fenway FreePrkg</td>\n",
              "      <td>Dorchester</td>\n",
              "      <td>Entire home/apt</td>\n",
              "      <td>2076</td>\n",
              "      <td>2</td>\n",
              "      <td>3</td>\n",
              "      <td>2021-07-25</td>\n",
              "      <td>17</td>\n",
              "      <td>356</td>\n",
              "      <td>1</td>\n",
              "    </tr>\n",
              "    <tr>\n",
              "      <th>1739</th>\n",
              "      <td>39772695</td>\n",
              "      <td>Boston Homestel, Double Bed</td>\n",
              "      <td>Dorchester</td>\n",
              "      <td>Private room</td>\n",
              "      <td>10000</td>\n",
              "      <td>1</td>\n",
              "      <td>12</td>\n",
              "      <td>2020-08-02</td>\n",
              "      <td>1</td>\n",
              "      <td>138</td>\n",
              "      <td>0</td>\n",
              "    </tr>\n",
              "  </tbody>\n",
              "</table>\n",
              "</div>\n",
              "      <button class=\"colab-df-convert\" onclick=\"convertToInteractive('df-f5798ad9-3214-4e99-8f14-c4c691c855ba')\"\n",
              "              title=\"Convert this dataframe to an interactive table.\"\n",
              "              style=\"display:none;\">\n",
              "        \n",
              "  <svg xmlns=\"http://www.w3.org/2000/svg\" height=\"24px\"viewBox=\"0 0 24 24\"\n",
              "       width=\"24px\">\n",
              "    <path d=\"M0 0h24v24H0V0z\" fill=\"none\"/>\n",
              "    <path d=\"M18.56 5.44l.94 2.06.94-2.06 2.06-.94-2.06-.94-.94-2.06-.94 2.06-2.06.94zm-11 1L8.5 8.5l.94-2.06 2.06-.94-2.06-.94L8.5 2.5l-.94 2.06-2.06.94zm10 10l.94 2.06.94-2.06 2.06-.94-2.06-.94-.94-2.06-.94 2.06-2.06.94z\"/><path d=\"M17.41 7.96l-1.37-1.37c-.4-.4-.92-.59-1.43-.59-.52 0-1.04.2-1.43.59L10.3 9.45l-7.72 7.72c-.78.78-.78 2.05 0 2.83L4 21.41c.39.39.9.59 1.41.59.51 0 1.02-.2 1.41-.59l7.78-7.78 2.81-2.81c.8-.78.8-2.07 0-2.86zM5.41 20L4 18.59l7.72-7.72 1.47 1.35L5.41 20z\"/>\n",
              "  </svg>\n",
              "      </button>\n",
              "      \n",
              "  <style>\n",
              "    .colab-df-container {\n",
              "      display:flex;\n",
              "      flex-wrap:wrap;\n",
              "      gap: 12px;\n",
              "    }\n",
              "\n",
              "    .colab-df-convert {\n",
              "      background-color: #E8F0FE;\n",
              "      border: none;\n",
              "      border-radius: 50%;\n",
              "      cursor: pointer;\n",
              "      display: none;\n",
              "      fill: #1967D2;\n",
              "      height: 32px;\n",
              "      padding: 0 0 0 0;\n",
              "      width: 32px;\n",
              "    }\n",
              "\n",
              "    .colab-df-convert:hover {\n",
              "      background-color: #E2EBFA;\n",
              "      box-shadow: 0px 1px 2px rgba(60, 64, 67, 0.3), 0px 1px 3px 1px rgba(60, 64, 67, 0.15);\n",
              "      fill: #174EA6;\n",
              "    }\n",
              "\n",
              "    [theme=dark] .colab-df-convert {\n",
              "      background-color: #3B4455;\n",
              "      fill: #D2E3FC;\n",
              "    }\n",
              "\n",
              "    [theme=dark] .colab-df-convert:hover {\n",
              "      background-color: #434B5C;\n",
              "      box-shadow: 0px 1px 3px 1px rgba(0, 0, 0, 0.15);\n",
              "      filter: drop-shadow(0px 1px 2px rgba(0, 0, 0, 0.3));\n",
              "      fill: #FFFFFF;\n",
              "    }\n",
              "  </style>\n",
              "\n",
              "      <script>\n",
              "        const buttonEl =\n",
              "          document.querySelector('#df-f5798ad9-3214-4e99-8f14-c4c691c855ba button.colab-df-convert');\n",
              "        buttonEl.style.display =\n",
              "          google.colab.kernel.accessAllowed ? 'block' : 'none';\n",
              "\n",
              "        async function convertToInteractive(key) {\n",
              "          const element = document.querySelector('#df-f5798ad9-3214-4e99-8f14-c4c691c855ba');\n",
              "          const dataTable =\n",
              "            await google.colab.kernel.invokeFunction('convertToInteractive',\n",
              "                                                     [key], {});\n",
              "          if (!dataTable) return;\n",
              "\n",
              "          const docLinkHtml = 'Like what you see? Visit the ' +\n",
              "            '<a target=\"_blank\" href=https://colab.research.google.com/notebooks/data_table.ipynb>data table notebook</a>'\n",
              "            + ' to learn more about interactive tables.';\n",
              "          element.innerHTML = '';\n",
              "          dataTable['output_type'] = 'display_data';\n",
              "          await google.colab.output.renderOutput(dataTable, element);\n",
              "          const docLink = document.createElement('div');\n",
              "          docLink.innerHTML = docLinkHtml;\n",
              "          element.appendChild(docLink);\n",
              "        }\n",
              "      </script>\n",
              "    </div>\n",
              "  </div>\n",
              "  "
            ]
          },
          "metadata": {},
          "execution_count": 75
        }
      ]
    },
    {
      "cell_type": "markdown",
      "source": [
        "A linha com o `id`: 1739, com o nome de ***Boston Homestel, Double Bed*** está muito fora da curva. Ela custa o dobro das locações mais caras e como descrito em `room_type` trata-se apenas de um quarto (Private room). Vamos então verificar os preços de outras locações na mesma localidade e fazer a comparação"
      ],
      "metadata": {
        "id": "fK8JKo4Q_0gI"
      }
    },
    {
      "cell_type": "code",
      "source": [
        "# localizar a entradas localizadas em Dorchester e exibir somente colunas selecionadas\n",
        "df.loc[df.neighbourhood == 'Dorchester'].price.describe()"
      ],
      "metadata": {
        "colab": {
          "base_uri": "https://localhost:8080/"
        },
        "id": "M1vvIsOpBRKr",
        "outputId": "026d365a-8efb-4513-da84-615dfb3111ad"
      },
      "execution_count": 76,
      "outputs": [
        {
          "output_type": "execute_result",
          "data": {
            "text/plain": [
              "count      449.000000\n",
              "mean       146.120267\n",
              "std        485.220213\n",
              "min         23.000000\n",
              "25%         48.000000\n",
              "50%         87.000000\n",
              "75%        159.000000\n",
              "max      10000.000000\n",
              "Name: price, dtype: float64"
            ]
          },
          "metadata": {},
          "execution_count": 76
        }
      ]
    },
    {
      "cell_type": "markdown",
      "source": [
        "Podemos ver que mesmo dentro da mesma localidade, o valor dessa locação está muito acima da média: 146,120267 e se difere muito das outras, logo, podemos concluir que trata-se de um outlier."
      ],
      "metadata": {
        "id": "lXcQY1-0_wj1"
      }
    },
    {
      "cell_type": "markdown",
      "source": [
        "Agora vamos retirar essa informação incorreta e recalcular a média dos valores na cidade"
      ],
      "metadata": {
        "id": "YivMao2BDP-n"
      }
    },
    {
      "cell_type": "code",
      "source": [
        "# primeiro fazemos uma cópia do DataFrame originale será nele onde faremos as alterações\n",
        "df_clean = df.copy()\n",
        "\n",
        "# remove-se do DataFrame o outlier\n",
        "df_clean.drop(df_clean[df_clean.price >= 10000].index, axis=0, inplace=True)\n",
        "\n",
        "# retira-se também 'neighbourhood_group' pois está 100% vazio\n",
        "df_clean.drop('neighbourhood_group', axis=1, inplace=True)\n",
        "\n",
        "# calcula a média dos preços\n",
        "df_clean.price.mean()"
      ],
      "metadata": {
        "colab": {
          "base_uri": "https://localhost:8080/"
        },
        "id": "tJ5BpL5nz6yT",
        "outputId": "f9e8015f-cd21-4bc3-929f-ff97988bb3e3"
      },
      "execution_count": 77,
      "outputs": [
        {
          "output_type": "execute_result",
          "data": {
            "text/plain": [
              "165.29450418160096"
            ]
          },
          "metadata": {},
          "execution_count": 77
        }
      ]
    },
    {
      "cell_type": "markdown",
      "source": [
        "Apesar da retirada do outlier, isso não trouxe mudança significativa no valor da média.\n",
        "Veremos então como ficou nosso histograma limpo\n"
      ],
      "metadata": {
        "id": "jXNNIMeyIhKA"
      }
    },
    {
      "cell_type": "code",
      "source": [
        "# exibir um gráfico do tipo hisograma\n",
        "df_clean.price.hist(bins=50)"
      ],
      "metadata": {
        "colab": {
          "base_uri": "https://localhost:8080/",
          "height": 282
        },
        "id": "nHD1z4rEQ1IQ",
        "outputId": "d5165efc-1825-4d34-b88c-6baac11abc55"
      },
      "execution_count": 78,
      "outputs": [
        {
          "output_type": "execute_result",
          "data": {
            "text/plain": [
              "<matplotlib.axes._subplots.AxesSubplot at 0x7f078a8634d0>"
            ]
          },
          "metadata": {},
          "execution_count": 78
        },
        {
          "output_type": "display_data",
          "data": {
            "text/plain": [
              "<Figure size 432x288 with 1 Axes>"
            ],
            "image/png": "[encoded data removed]"
          },
          "metadata": {
            "needs_background": "light"
          }
        }
      ]
    },
    {
      "cell_type": "markdown",
      "metadata": {
        "id": "IXn2oIo5qx-w"
      },
      "source": [
        "### **Q4. Qual a correlação existente entre as variáveis**"
      ]
    },
    {
      "cell_type": "markdown",
      "source": [
        "Correlação significa que existe uma relação entre duas coisas. No nosso contexto, estamos buscando relação ou semelhança entre duas variáveis.\n",
        "\n",
        "Essa relação pode ser medida, e é função do coeficiente de correlação estabelecer qual a intensidade dela. Para identificar as correlações existentes entre as variáveis de interesse, vou:\n",
        "\n",
        "* Criar uma matriz de correlação\n",
        "* Gerar um *heatmap* a partir dessa matriz, usando a biblioteca `seaborn`"
      ],
      "metadata": {
        "id": "PYOS-L1lJV00"
      }
    },
    {
      "cell_type": "code",
      "metadata": {
        "id": "x2ayzBajqxyd",
        "colab": {
          "base_uri": "https://localhost:8080/",
          "height": 237
        },
        "outputId": "561b7aba-4c10-4d1d-942f-12b5a3b8e389"
      },
      "source": [
        "# criar uma matriz de correlação\n",
        "corr = df_clean[['price',\n",
        "                 'minimum_nights',\n",
        "                 'number_of_reviews',\n",
        "                 'reviews_per_month',\n",
        "                 'calculated_host_listings_count',\n",
        "                 'availability_365']].corr()\n",
        "\n",
        "\n",
        "# mostrar a matriz de correlação\n",
        "display(corr)"
      ],
      "execution_count": 79,
      "outputs": [
        {
          "output_type": "display_data",
          "data": {
            "text/plain": [
              "                                   price  minimum_nights  number_of_reviews  \\\n",
              "price                           1.000000       -0.035595          -0.018737   \n",
              "minimum_nights                 -0.035595        1.000000          -0.240366   \n",
              "number_of_reviews              -0.018737       -0.240366           1.000000   \n",
              "reviews_per_month              -0.008623       -0.402627           0.554746   \n",
              "calculated_host_listings_count -0.050912        0.159904          -0.209325   \n",
              "availability_365                0.022243        0.067978          -0.069806   \n",
              "\n",
              "                                reviews_per_month  \\\n",
              "price                                   -0.008623   \n",
              "minimum_nights                          -0.402627   \n",
              "number_of_reviews                        0.554746   \n",
              "reviews_per_month                        1.000000   \n",
              "calculated_host_listings_count          -0.012761   \n",
              "availability_365                         0.036410   \n",
              "\n",
              "                                calculated_host_listings_count  \\\n",
              "price                                                -0.050912   \n",
              "minimum_nights                                        0.159904   \n",
              "number_of_reviews                                    -0.209325   \n",
              "reviews_per_month                                    -0.012761   \n",
              "calculated_host_listings_count                        1.000000   \n",
              "availability_365                                      0.329724   \n",
              "\n",
              "                                availability_365  \n",
              "price                                   0.022243  \n",
              "minimum_nights                          0.067978  \n",
              "number_of_reviews                      -0.069806  \n",
              "reviews_per_month                       0.036410  \n",
              "calculated_host_listings_count          0.329724  \n",
              "availability_365                        1.000000  "
            ],
            "text/html": [
              "\n",
              "  <div id=\"df-277f872d-c02c-41f9-9919-4303f1a2daf2\">\n",
              "    <div class=\"colab-df-container\">\n",
              "      <div>\n",
              "<style scoped>\n",
              "    .dataframe tbody tr th:only-of-type {\n",
              "        vertical-align: middle;\n",
              "    }\n",
              "\n",
              "    .dataframe tbody tr th {\n",
              "        vertical-align: top;\n",
              "    }\n",
              "\n",
              "    .dataframe thead th {\n",
              "        text-align: right;\n",
              "    }\n",
              "</style>\n",
              "<table border=\"1\" class=\"dataframe\">\n",
              "  <thead>\n",
              "    <tr style=\"text-align: right;\">\n",
              "      <th></th>\n",
              "      <th>price</th>\n",
              "      <th>minimum_nights</th>\n",
              "      <th>number_of_reviews</th>\n",
              "      <th>reviews_per_month</th>\n",
              "      <th>calculated_host_listings_count</th>\n",
              "      <th>availability_365</th>\n",
              "    </tr>\n",
              "  </thead>\n",
              "  <tbody>\n",
              "    <tr>\n",
              "      <th>price</th>\n",
              "      <td>1.000000</td>\n",
              "      <td>-0.035595</td>\n",
              "      <td>-0.018737</td>\n",
              "      <td>-0.008623</td>\n",
              "      <td>-0.050912</td>\n",
              "      <td>0.022243</td>\n",
              "    </tr>\n",
              "    <tr>\n",
              "      <th>minimum_nights</th>\n",
              "      <td>-0.035595</td>\n",
              "      <td>1.000000</td>\n",
              "      <td>-0.240366</td>\n",
              "      <td>-0.402627</td>\n",
              "      <td>0.159904</td>\n",
              "      <td>0.067978</td>\n",
              "    </tr>\n",
              "    <tr>\n",
              "      <th>number_of_reviews</th>\n",
              "      <td>-0.018737</td>\n",
              "      <td>-0.240366</td>\n",
              "      <td>1.000000</td>\n",
              "      <td>0.554746</td>\n",
              "      <td>-0.209325</td>\n",
              "      <td>-0.069806</td>\n",
              "    </tr>\n",
              "    <tr>\n",
              "      <th>reviews_per_month</th>\n",
              "      <td>-0.008623</td>\n",
              "      <td>-0.402627</td>\n",
              "      <td>0.554746</td>\n",
              "      <td>1.000000</td>\n",
              "      <td>-0.012761</td>\n",
              "      <td>0.036410</td>\n",
              "    </tr>\n",
              "    <tr>\n",
              "      <th>calculated_host_listings_count</th>\n",
              "      <td>-0.050912</td>\n",
              "      <td>0.159904</td>\n",
              "      <td>-0.209325</td>\n",
              "      <td>-0.012761</td>\n",
              "      <td>1.000000</td>\n",
              "      <td>0.329724</td>\n",
              "    </tr>\n",
              "    <tr>\n",
              "      <th>availability_365</th>\n",
              "      <td>0.022243</td>\n",
              "      <td>0.067978</td>\n",
              "      <td>-0.069806</td>\n",
              "      <td>0.036410</td>\n",
              "      <td>0.329724</td>\n",
              "      <td>1.000000</td>\n",
              "    </tr>\n",
              "  </tbody>\n",
              "</table>\n",
              "</div>\n",
              "      <button class=\"colab-df-convert\" onclick=\"convertToInteractive('df-277f872d-c02c-41f9-9919-4303f1a2daf2')\"\n",
              "              title=\"Convert this dataframe to an interactive table.\"\n",
              "              style=\"display:none;\">\n",
              "        \n",
              "  <svg xmlns=\"http://www.w3.org/2000/svg\" height=\"24px\"viewBox=\"0 0 24 24\"\n",
              "       width=\"24px\">\n",
              "    <path d=\"M0 0h24v24H0V0z\" fill=\"none\"/>\n",
              "    <path d=\"M18.56 5.44l.94 2.06.94-2.06 2.06-.94-2.06-.94-.94-2.06-.94 2.06-2.06.94zm-11 1L8.5 8.5l.94-2.06 2.06-.94-2.06-.94L8.5 2.5l-.94 2.06-2.06.94zm10 10l.94 2.06.94-2.06 2.06-.94-2.06-.94-.94-2.06-.94 2.06-2.06.94z\"/><path d=\"M17.41 7.96l-1.37-1.37c-.4-.4-.92-.59-1.43-.59-.52 0-1.04.2-1.43.59L10.3 9.45l-7.72 7.72c-.78.78-.78 2.05 0 2.83L4 21.41c.39.39.9.59 1.41.59.51 0 1.02-.2 1.41-.59l7.78-7.78 2.81-2.81c.8-.78.8-2.07 0-2.86zM5.41 20L4 18.59l7.72-7.72 1.47 1.35L5.41 20z\"/>\n",
              "  </svg>\n",
              "      </button>\n",
              "      \n",
              "  <style>\n",
              "    .colab-df-container {\n",
              "      display:flex;\n",
              "      flex-wrap:wrap;\n",
              "      gap: 12px;\n",
              "    }\n",
              "\n",
              "    .colab-df-convert {\n",
              "      background-color: #E8F0FE;\n",
              "      border: none;\n",
              "      border-radius: 50%;\n",
              "      cursor: pointer;\n",
              "      display: none;\n",
              "      fill: #1967D2;\n",
              "      height: 32px;\n",
              "      padding: 0 0 0 0;\n",
              "      width: 32px;\n",
              "    }\n",
              "\n",
              "    .colab-df-convert:hover {\n",
              "      background-color: #E2EBFA;\n",
              "      box-shadow: 0px 1px 2px rgba(60, 64, 67, 0.3), 0px 1px 3px 1px rgba(60, 64, 67, 0.15);\n",
              "      fill: #174EA6;\n",
              "    }\n",
              "\n",
              "    [theme=dark] .colab-df-convert {\n",
              "      background-color: #3B4455;\n",
              "      fill: #D2E3FC;\n",
              "    }\n",
              "\n",
              "    [theme=dark] .colab-df-convert:hover {\n",
              "      background-color: #434B5C;\n",
              "      box-shadow: 0px 1px 3px 1px rgba(0, 0, 0, 0.15);\n",
              "      filter: drop-shadow(0px 1px 2px rgba(0, 0, 0, 0.3));\n",
              "      fill: #FFFFFF;\n",
              "    }\n",
              "  </style>\n",
              "\n",
              "      <script>\n",
              "        const buttonEl =\n",
              "          document.querySelector('#df-277f872d-c02c-41f9-9919-4303f1a2daf2 button.colab-df-convert');\n",
              "        buttonEl.style.display =\n",
              "          google.colab.kernel.accessAllowed ? 'block' : 'none';\n",
              "\n",
              "        async function convertToInteractive(key) {\n",
              "          const element = document.querySelector('#df-277f872d-c02c-41f9-9919-4303f1a2daf2');\n",
              "          const dataTable =\n",
              "            await google.colab.kernel.invokeFunction('convertToInteractive',\n",
              "                                                     [key], {});\n",
              "          if (!dataTable) return;\n",
              "\n",
              "          const docLinkHtml = 'Like what you see? Visit the ' +\n",
              "            '<a target=\"_blank\" href=https://colab.research.google.com/notebooks/data_table.ipynb>data table notebook</a>'\n",
              "            + ' to learn more about interactive tables.';\n",
              "          element.innerHTML = '';\n",
              "          dataTable['output_type'] = 'display_data';\n",
              "          await google.colab.output.renderOutput(dataTable, element);\n",
              "          const docLink = document.createElement('div');\n",
              "          docLink.innerHTML = docLinkHtml;\n",
              "          element.appendChild(docLink);\n",
              "        }\n",
              "      </script>\n",
              "    </div>\n",
              "  </div>\n",
              "  "
            ]
          },
          "metadata": {}
        }
      ]
    },
    {
      "cell_type": "code",
      "metadata": {
        "id": "91UujDr6ueqE",
        "colab": {
          "base_uri": "https://localhost:8080/",
          "height": 428
        },
        "outputId": "1d05d9ce-8b15-4d8d-e19e-1f371994e80e"
      },
      "source": [
        "# plotar um heatmap a partir das correlações\n",
        "sns.heatmap(corr, cmap='RdBu', fmt='.2f', square=True, linecolor='white', annot=True)"
      ],
      "execution_count": 80,
      "outputs": [
        {
          "output_type": "execute_result",
          "data": {
            "text/plain": [
              "<matplotlib.axes._subplots.AxesSubplot at 0x7f078a7ba890>"
            ]
          },
          "metadata": {},
          "execution_count": 80
        },
        {
          "output_type": "display_data",
          "data": {
            "text/plain": [
              "<Figure size 432x288 with 2 Axes>"
            ],
            "image/png": "[encoded data removed]"
          },
          "metadata": {
            "needs_background": "light"
          }
        }
      ]
    },
    {
      "cell_type": "markdown",
      "metadata": {
        "id": "7b6RMWpuHKN-"
      },
      "source": [
        "### **Q5. Qual o tipo de imóvel mais alugado no Airbnb?**"
      ]
    },
    {
      "cell_type": "markdown",
      "source": [
        "A coluna da variável `room_type` indica o tipo de locação que está anunciada no Airbnb. Se você já alugou no site, sabe que existem opções de apartamentos/casas inteiras, apenas o aluguel de um quarto ou mesmo dividir o quarto com outras pessoas.\n",
        "\n",
        "Vamos contar a quantidade de ocorrências de cada tipo de aluguel, usando o método `value_counts()`."
      ],
      "metadata": {
        "id": "BVHY1wfGMBUy"
      }
    },
    {
      "cell_type": "code",
      "metadata": {
        "id": "ueLPNWvPHgfB",
        "colab": {
          "base_uri": "https://localhost:8080/"
        },
        "outputId": "bdbc83a0-615f-42cc-d837-395d64b4a627"
      },
      "source": [
        "# mostrar a quantidade de cada tipo de imóvel disponível\n",
        "df_clean.room_type.value_counts()"
      ],
      "execution_count": 81,
      "outputs": [
        {
          "output_type": "execute_result",
          "data": {
            "text/plain": [
              "Entire home/apt    2102\n",
              "Private room       1209\n",
              "Hotel room           25\n",
              "Shared room          12\n",
              "Name: room_type, dtype: int64"
            ]
          },
          "metadata": {},
          "execution_count": 81
        }
      ]
    },
    {
      "cell_type": "code",
      "metadata": {
        "id": "EvwoO-XAHhIm",
        "colab": {
          "base_uri": "https://localhost:8080/"
        },
        "outputId": "cfbe3c62-8163-4071-fc84-7a7fccb14a4b"
      },
      "source": [
        "# mostrar a porcentagem de cada tipo de imóvel disponível\n",
        "(df_clean.room_type.value_counts() / df_clean.shape[0]) * 100"
      ],
      "execution_count": 82,
      "outputs": [
        {
          "output_type": "execute_result",
          "data": {
            "text/plain": [
              "Entire home/apt    62.783751\n",
              "Private room       36.111111\n",
              "Hotel room          0.746714\n",
              "Shared room         0.358423\n",
              "Name: room_type, dtype: float64"
            ]
          },
          "metadata": {},
          "execution_count": 82
        }
      ]
    },
    {
      "cell_type": "markdown",
      "metadata": {
        "id": "MFa5NbnLJMcd"
      },
      "source": [
        "### **Q6. Qual a localidade mais cara do dataset?**\n",
        "\n"
      ]
    },
    {
      "cell_type": "code",
      "metadata": {
        "id": "MD_xa143JZpi",
        "colab": {
          "base_uri": "https://localhost:8080/"
        },
        "outputId": "bbeb4ea5-6c9c-47eb-dac1-ac37ac5efaec"
      },
      "source": [
        "# ver preços por bairros, na média\n",
        "df_clean.groupby(['neighbourhood']).price.mean().sort_values(ascending=False)"
      ],
      "execution_count": 83,
      "outputs": [
        {
          "output_type": "execute_result",
          "data": {
            "text/plain": [
              "neighbourhood\n",
              "Back Bay                   277.309179\n",
              "South Boston Waterfront    240.000000\n",
              "Chinatown                  238.804878\n",
              "Charlestown                238.200000\n",
              "Downtown                   218.346875\n",
              "Fenway                     216.619403\n",
              "South Boston               209.368056\n",
              "West End                   196.127660\n",
              "West Roxbury               193.129032\n",
              "Leather District           184.333333\n",
              "North End                  181.744681\n",
              "South End                  179.473896\n",
              "Beacon Hill                178.437500\n",
              "Jamaica Plain              163.123853\n",
              "Longwood Medical Area      147.000000\n",
              "East Boston                143.779487\n",
              "Bay Village                141.690476\n",
              "Mission Hill               140.236364\n",
              "Dorchester                 124.125000\n",
              "Mattapan                   112.974359\n",
              "Roxbury                    110.932384\n",
              "Brighton                   109.120482\n",
              "Allston                    101.420765\n",
              "Roslindale                  97.852459\n",
              "Hyde Park                   93.487179\n",
              "Name: price, dtype: float64"
            ]
          },
          "metadata": {},
          "execution_count": 83
        }
      ]
    },
    {
      "cell_type": "code",
      "source": [
        "# ver os preços por bairros, os mais caros\n",
        "df_clean.groupby(['neighbourhood']).price.max().sort_values(ascending=False)"
      ],
      "metadata": {
        "colab": {
          "base_uri": "https://localhost:8080/"
        },
        "id": "-g-FMnRdN_fl",
        "outputId": "f9270f9f-3bf9-41cb-d39c-96a7bbb9c5ed"
      },
      "execution_count": 84,
      "outputs": [
        {
          "output_type": "execute_result",
          "data": {
            "text/plain": [
              "neighbourhood\n",
              "Back Bay                   5000\n",
              "Downtown                   3999\n",
              "Dorchester                 2076\n",
              "South Boston               1995\n",
              "Jamaica Plain              1299\n",
              "West Roxbury               1200\n",
              "Roxbury                    1104\n",
              "North End                  1052\n",
              "Fenway                      959\n",
              "Charlestown                 950\n",
              "South End                   895\n",
              "Brighton                    883\n",
              "Beacon Hill                 799\n",
              "Mission Hill                642\n",
              "Chinatown                   637\n",
              "West End                    605\n",
              "South Boston Waterfront     597\n",
              "Bay Village                 590\n",
              "Allston                     500\n",
              "East Boston                 416\n",
              "Mattapan                    400\n",
              "Hyde Park                   279\n",
              "Longwood Medical Area       229\n",
              "Leather District            214\n",
              "Roslindale                  200\n",
              "Name: price, dtype: int64"
            ]
          },
          "metadata": {},
          "execution_count": 84
        }
      ]
    },
    {
      "cell_type": "markdown",
      "source": [
        "Como são fornecidas as Latitudes e Longitudes para os imóveis, é possível plotar cada ponto. Para isso, considera-se x=longitude e y=latitude."
      ],
      "metadata": {
        "id": "sxoLiVNBOs9f"
      }
    },
    {
      "cell_type": "code",
      "metadata": {
        "id": "UxVJqJ_3W59I",
        "colab": {
          "base_uri": "https://localhost:8080/",
          "height": 493
        },
        "outputId": "0a6257d8-0ed5-4288-f6dc-3b406c3863f3"
      },
      "source": [
        "# plotar os imóveis pela latitude-longitude\n",
        "df_clean.plot(kind='scatter',\n",
        "              x='latitude',\n",
        "              y='longitude',\n",
        "              alpha=0.4,\n",
        "              c=df_clean['price'],\n",
        "              s=8,\n",
        "              cmap=plt.get_cmap('jet'),\n",
        "              figsize=(12,8))"
      ],
      "execution_count": 88,
      "outputs": [
        {
          "output_type": "execute_result",
          "data": {
            "text/plain": [
              "<matplotlib.axes._subplots.AxesSubplot at 0x7f078a4b3750>"
            ]
          },
          "metadata": {},
          "execution_count": 88
        },
        {
          "output_type": "display_data",
          "data": {
            "text/plain": [
              "<Figure size 864x576 with 2 Axes>"
            ],
            "image/png": "[encoded data removed]"
          },
          "metadata": {
            "needs_background": "light"
          }
        }
      ]
    },
    {
      "cell_type": "markdown",
      "metadata": {
        "id": "vTneAMRUYvr1"
      },
      "source": [
        "### **Q7. Qual é a média do mínimo de noites para aluguel (minimum_nights)?**"
      ]
    },
    {
      "cell_type": "code",
      "metadata": {
        "id": "_VzNhrEgY82N",
        "colab": {
          "base_uri": "https://localhost:8080/"
        },
        "outputId": "351b6f9f-f865-40a3-bb8a-c79e27b60d9b"
      },
      "source": [
        "# ver a média da coluna `minimum_nights``\n",
        "df_clean.minimum_nights.mean()"
      ],
      "execution_count": 89,
      "outputs": [
        {
          "output_type": "execute_result",
          "data": {
            "text/plain": [
              "39.09617682198327"
            ]
          },
          "metadata": {},
          "execution_count": 89
        }
      ]
    },
    {
      "cell_type": "markdown",
      "metadata": {
        "id": "GkvAg623RjoR"
      },
      "source": [
        "## Conclusões\n"
      ]
    },
    {
      "cell_type": "markdown",
      "metadata": {
        "id": "rbZ3Hsy9Ypw8"
      },
      "source": [
        "Embora seja uma análise superficial, feita com base em um dataset resumido, é possível observar várias informações úteis que podem ser utilizadas para a tomada de decisões.\n",
        "\n",
        "* embora um outilier estivesse presente no dataframe, esse não interferiu consideravelmente com as métricas de calculo\n",
        "* qual a quantidade dos diferentes tipos de locação dos imoveis disponíveis, se são compartilhados, individuais, etc.\n",
        "* quais são os bairros mais caros e onde estão os imoveis mais caros\n",
        "* o grafico de latitude x longitude indica que os imoveis disponǘeis estão  geograficamente distribuidos\n",
        "* a média minima de dias é de aproximadamente 39 dias o que indica que a preferêcia é por imóveis por temporada"
      ]
    }
  ]
}